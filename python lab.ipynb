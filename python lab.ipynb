{
 "cells": [
  {
   "cell_type": "code",
   "execution_count": 1,
   "id": "bca8accf",
   "metadata": {},
   "outputs": [
    {
     "name": "stdout",
     "output_type": "stream",
     "text": [
      "Enter marks for test1: 25\n",
      "Enter marks for test2: 27\n",
      "Enter marks for test3: 28\n",
      "Average of best two test marks out of three test’s marks is 27.5\n"
     ]
    }
   ],
   "source": [
    "#p1a\n",
    "m1 = int(input(\"Enter marks for test1: \"))\n",
    "m2 = int(input(\"Enter marks for test2: \"))\n",
    "m3 = int(input(\"Enter marks for test3: \"))\n",
    "\n",
    "if m1 <= m2 and m1 <= m3:\n",
    "    avgMarks = (m2 + m3) / 2\n",
    "elif m2 <= m1 and m2 <= m3:\n",
    "    avgMarks = (m1 + m3) / 2\n",
    "elif m3 <= m1 and m3 <= m2:\n",
    "    avgMarks = (m1 + m2) / 2\n",
    "\n",
    "print(\"Average of best two test marks out of three test’s marks is\", avgMarks)\n"
   ]
  },
  {
   "cell_type": "code",
   "execution_count": 2,
   "id": "f883edf5",
   "metadata": {},
   "outputs": [
    {
     "name": "stdout",
     "output_type": "stream",
     "text": [
      "Enter a value: 121\n",
      "Palindrome\n",
      "1 appears 2 times\n",
      "2 appears 1 times\n"
     ]
    }
   ],
   "source": [
    "#p1b\n",
    "val = int(input(\"Enter a value: \"))\n",
    "str_val = str(val)\n",
    "\n",
    "if str_val == str_val[::-1]:\n",
    "    print(\"Palindrome\")\n",
    "else:\n",
    "    print(\"Not Palindrome\")\n",
    "\n",
    "for i in range(10):\n",
    "    if str_val.count(str(i)) > 0:\n",
    "        print(str(i), \"appears\", str_val.count(str(i)), \"times\")\n"
   ]
  },
  {
   "cell_type": "code",
   "execution_count": 3,
   "id": "698997a6",
   "metadata": {},
   "outputs": [
    {
     "name": "stdout",
     "output_type": "stream",
     "text": [
      "Enter a number: 7\n",
      "fn(7) =8\n"
     ]
    }
   ],
   "source": [
    "#p2a\n",
    "def fn(n):\n",
    "    if n == 1:\n",
    "        return 0\n",
    "    elif n == 2:\n",
    "        return 1\n",
    "    else:\n",
    "        return fn(n - 1) + fn(n - 2)\n",
    "\n",
    "num = int(input(\"Enter a number: \"))\n",
    "if num > 0:\n",
    "    print(\"fn(\", num, \") =\", fn(num), sep=\"\")\n",
    "else:\n",
    "    print(\"Error in input\")\n"
   ]
  },
  {
   "cell_type": "code",
   "execution_count": 4,
   "id": "e986e6c5",
   "metadata": {},
   "outputs": [
    {
     "name": "stdout",
     "output_type": "stream",
     "text": [
      "Enter a binary number: 0010\n",
      "2\n",
      "Enter an octal number: 17\n",
      "F\n"
     ]
    }
   ],
   "source": [
    "#p2b\n",
    "def bin2Dec(val):\n",
    "    rev = val[::-1]\n",
    "    dec = 0\n",
    "    i = 0\n",
    "    for dig in rev:\n",
    "        dec += int(dig) * 2**i\n",
    "        i += 1\n",
    "    return dec\n",
    "\n",
    "def oct2Hex(val):\n",
    "    rev = val[::-1]\n",
    "    dec = 0\n",
    "    i = 0\n",
    "    for dig in rev:\n",
    "        dec += int(dig) * 8**i\n",
    "        i += 1\n",
    "\n",
    "    hex_list = []\n",
    "    while dec != 0:\n",
    "        hex_list.append(dec % 16)\n",
    "        dec = dec // 16\n",
    "\n",
    "    hex_string = \"\"\n",
    "    for elem in hex_list[::-1]:\n",
    "        if elem <= 9:\n",
    "            hex_string += str(elem)\n",
    "        else:\n",
    "            hex_string += chr(ord('A') + (elem - 10))\n",
    "\n",
    "    return hex_string\n",
    "\n",
    "num1 = input(\"Enter a binary number: \")\n",
    "print(bin2Dec(num1))\n",
    "\n",
    "num2 = input(\"Enter an octal number: \")\n",
    "print(oct2Hex(num2))\n"
   ]
  },
  {
   "cell_type": "code",
   "execution_count": 5,
   "id": "58bf1c44",
   "metadata": {},
   "outputs": [
    {
     "name": "stdout",
     "output_type": "stream",
     "text": [
      "Enter a sentence: sameer\n",
      "This sentence has 1 words\n",
      "This sentence has 0 digits, 0 uppercase letters, 6 lowercase letters.\n"
     ]
    }
   ],
   "source": [
    "#p3a\n",
    "sentence = input(\"Enter a sentence: \")\n",
    "wordList = sentence.split(\" \")\n",
    "print(\"This sentence has\", len(wordList), \"words\")\n",
    "\n",
    "digCnt = upCnt = loCnt = 0\n",
    "for ch in sentence:\n",
    "    if '0' <= ch <= '9':\n",
    "        digCnt += 1\n",
    "    elif 'A' <= ch <= 'Z':\n",
    "        upCnt += 1\n",
    "    elif 'a' <= ch <= 'z':\n",
    "        loCnt += 1\n",
    "\n",
    "print(\"This sentence has\", digCnt, \"digits,\", upCnt, \"uppercase letters,\", loCnt, \"lowercase letters.\")\n"
   ]
  },
  {
   "cell_type": "code",
   "execution_count": 6,
   "id": "93b36dd2",
   "metadata": {},
   "outputs": [
    {
     "name": "stdout",
     "output_type": "stream",
     "text": [
      "Enter String 1:\n",
      "sameer\n",
      "Enter String 2:\n",
      "rahul\n",
      "Similarity between the two strings:\n",
      "0.16666666666666666\n"
     ]
    }
   ],
   "source": [
    "#p3b\n",
    "str1 = input(\"Enter String 1:\\n\")\n",
    "str2 = input(\"Enter String 2:\\n\")\n",
    "\n",
    "if len(str2) < len(str1):\n",
    "    short = len(str2)\n",
    "    long = len(str1)\n",
    "else:\n",
    "    short = len(str1)\n",
    "    long = len(str2)\n",
    "\n",
    "matchCnt = 0\n",
    "for i in range(short):\n",
    "    if str1[i] == str2[i]:\n",
    "        matchCnt += 1\n",
    "\n",
    "print(\"Similarity between the two strings:\")\n",
    "print(matchCnt / long)\n"
   ]
  },
  {
   "cell_type": "code",
   "execution_count": 7,
   "id": "72cf5672",
   "metadata": {},
   "outputs": [
    {
     "name": "stdout",
     "output_type": "stream",
     "text": [
      "Unsorted List:\n",
      "[207, 114, 714, 420, 450, 352, 931, 388, 728, 195]\n",
      "Sorting using Insertion Sort:\n",
      "[114, 195, 207, 352, 388, 420, 450, 714, 728, 931]\n",
      "Unsorted List:\n",
      "[752, 754, 687, 695, 953, 246, 915, 410, 502, 381]\n",
      "Sorting using Merge Sort:\n",
      "[246, 381, 410, 502, 687, 695, 752, 754, 915, 953]\n"
     ]
    }
   ],
   "source": [
    "#p4a\n",
    "import random\n",
    "\n",
    "def merge_sort(lst):\n",
    "    if len(lst) > 1:\n",
    "        mid = len(lst) // 2\n",
    "        left_half = lst[:mid]\n",
    "        right_half = lst[mid:]\n",
    "        merge_sort(left_half)\n",
    "        merge_sort(right_half)\n",
    "\n",
    "        i = j = k = 0\n",
    "        while i < len(left_half) and j < len(right_half):\n",
    "            if left_half[i] < right_half[j]:\n",
    "                lst[k] = left_half[i]\n",
    "                i += 1\n",
    "            else:\n",
    "                lst[k] = right_half[j]\n",
    "                j += 1\n",
    "            k += 1\n",
    "\n",
    "        while i < len(left_half):\n",
    "            lst[k] = left_half[i]\n",
    "            i += 1\n",
    "            k += 1\n",
    "\n",
    "        while j < len(right_half):\n",
    "            lst[k] = right_half[j]\n",
    "            j += 1\n",
    "            k += 1\n",
    "\n",
    "        return lst\n",
    "\n",
    "def insertion_sort(arr):\n",
    "    for i in range(1, len(arr)):\n",
    "        key = arr[i]\n",
    "        j = i - 1\n",
    "        while j >= 0 and key < arr[j]:\n",
    "            arr[j + 1] = arr[j]\n",
    "            j -= 1\n",
    "        arr[j + 1] = key\n",
    "\n",
    "my_list = []\n",
    "for i in range(10):\n",
    "    my_list.append(random.randint(0, 999))\n",
    "\n",
    "print(\"Unsorted List:\")\n",
    "print(my_list)\n",
    "\n",
    "print(\"Sorting using Insertion Sort:\")\n",
    "insertion_sort(my_list)\n",
    "print(my_list)\n",
    "\n",
    "my_list = []\n",
    "for i in range(10):\n",
    "    my_list.append(random.randint(0, 999))\n",
    "\n",
    "print(\"Unsorted List:\")\n",
    "print(my_list)\n",
    "\n",
    "print(\"Sorting using Merge Sort:\")\n",
    "sorted_list = merge_sort(my_list)\n",
    "print(sorted_list)\n"
   ]
  },
  {
   "cell_type": "code",
   "execution_count": 8,
   "id": "5c493168",
   "metadata": {},
   "outputs": [
    {
     "name": "stdout",
     "output_type": "stream",
     "text": [
      "Enter a Roman Number: VII\n",
      "7\n"
     ]
    }
   ],
   "source": [
    "#p4b\n",
    "def roman2Dec(romStr):\n",
    "    roman_dict = {'I': 1, 'V': 5, 'X': 10, 'L': 50, 'C': 100, 'D': 500, 'M': 1000}\n",
    "\n",
    "    # Analyze string backwards\n",
    "    romanBack = list(romStr)[::-1]\n",
    "    value = 0\n",
    "\n",
    "    # To keep track of order\n",
    "    rightVal = roman_dict[romanBack[0]]\n",
    "\n",
    "    for numeral in romanBack:\n",
    "        leftVal = roman_dict[numeral]\n",
    "\n",
    "        # Check for subtraction\n",
    "        if leftVal < rightVal:\n",
    "            value -= leftVal\n",
    "        else:\n",
    "            value += leftVal\n",
    "\n",
    "        rightVal = leftVal\n",
    "\n",
    "    return value\n",
    "\n",
    "romanStr = input(\"Enter a Roman Number: \")\n",
    "print(roman2Dec(romanStr))\n"
   ]
  },
  {
   "cell_type": "code",
   "execution_count": 9,
   "id": "609d3df6",
   "metadata": {},
   "outputs": [
    {
     "name": "stdout",
     "output_type": "stream",
     "text": [
      "Enter a phone number: 8991125840\n",
      "Without using Regular Expression\n",
      "Invalid phone number\n",
      "Using Regular Expression\n",
      "Invalid phone number\n"
     ]
    }
   ],
   "source": [
    "#P5A\n",
    "import re\n",
    "\n",
    "def isphonenumber(numStr):\n",
    "    if len(numStr) != 12:\n",
    "        return False\n",
    "\n",
    "    for i in range(len(numStr)):\n",
    "        if i == 3 or i == 7:\n",
    "            if numStr[i] != \"-\":\n",
    "                return False\n",
    "        else:\n",
    "            if not numStr[i].isdigit():\n",
    "                return False\n",
    "\n",
    "    return True\n",
    "\n",
    "def chkphonenumber(numStr):\n",
    "    ph_no_pattern = re.compile(r'^\\d{3}-\\d{3}-\\d{4}$')\n",
    "    if ph_no_pattern.match(numStr):\n",
    "        return True\n",
    "    else:\n",
    "        return False\n",
    "\n",
    "ph_num = input(\"Enter a phone number: \")\n",
    "\n",
    "print(\"Without using Regular Expression\")\n",
    "if isphonenumber(ph_num):\n",
    "    print(\"Valid phone number\")\n",
    "else:\n",
    "    print(\"Invalid phone number\")\n",
    "\n",
    "print(\"Using Regular Expression\")\n",
    "if chkphonenumber(ph_num):\n",
    "    print(\"Valid phone number\")\n",
    "else:\n",
    "    print(\"Invalid phone number\")\n"
   ]
  },
  {
   "cell_type": "code",
   "execution_count": null,
   "id": "93b12487",
   "metadata": {},
   "outputs": [],
   "source": [
    "#p5b\n",
    "import re\n",
    "phone_regex = re.compile(r'\\+\\d{12}')\n",
    "email_regex = re.compile(r'[A-Za-z0-9._]+@[A-Za-z0-9]+\\.[A-Za-z]{2,}')\n",
    "with open('example.txt', 'r') as f:\n",
    "   \n",
    "    for line in f:\n",
    "        \n",
    "        phone_matches = phone_regex.findall(line)\n",
    "        \n",
    "        for match in phone_matches:\n",
    "            print(match)\n",
    "\n",
    "        \n",
    "        email_matches = email_regex.findall(line)\n",
    "       \n",
    "        for match in email_matches:\n",
    "            print(match)\n"
   ]
  },
  {
   "cell_type": "code",
   "execution_count": null,
   "id": "ef61ca65",
   "metadata": {},
   "outputs": [],
   "source": []
  }
 ],
 "metadata": {
  "kernelspec": {
   "display_name": "Python 3 (ipykernel)",
   "language": "python",
   "name": "python3"
  },
  "language_info": {
   "codemirror_mode": {
    "name": "ipython",
    "version": 3
   },
   "file_extension": ".py",
   "mimetype": "text/x-python",
   "name": "python",
   "nbconvert_exporter": "python",
   "pygments_lexer": "ipython3",
   "version": "3.11.3"
  }
 },
 "nbformat": 4,
 "nbformat_minor": 5
}
