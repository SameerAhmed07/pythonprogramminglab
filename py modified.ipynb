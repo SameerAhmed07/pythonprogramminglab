{
 "cells": [
  {
   "cell_type": "code",
   "execution_count": 1,
   "id": "54d91730",
   "metadata": {},
   "outputs": [
    {
     "data": {
      "application/vnd.jupyter.widget-view+json": {
       "model_id": "e01aae1d92254d7a90907634097bfee0",
       "version_major": 2,
       "version_minor": 0
      },
      "text/plain": [
       "Text(value='', description='Directory:', placeholder='Enter Directory name')"
      ]
     },
     "metadata": {},
     "output_type": "display_data"
    },
    {
     "data": {
      "application/vnd.jupyter.widget-view+json": {
       "model_id": "7b8b5791d4a8489cac6bbb2841769328",
       "version_major": 2,
       "version_minor": 0
      },
      "text/plain": [
       "Button(description='Backup Directory', style=ButtonStyle())"
      ]
     },
     "metadata": {},
     "output_type": "display_data"
    },
    {
     "name": "stdout",
     "output_type": "stream",
     "text": [
      "Directory sameer doesn't exist\n"
     ]
    }
   ],
   "source": [
    "#p6B\n",
    "import os\n",
    "import pathlib\n",
    "import zipfile\n",
    "import ipywidgets as widgets\n",
    "from IPython.display import display\n",
    "\n",
    "# Create a text input widget for directory name\n",
    "dir_widget = widgets.Text(\n",
    "    value='',\n",
    "    placeholder='Enter Directory name',\n",
    "    description='Directory:',\n",
    "    disabled=False\n",
    ")\n",
    "\n",
    "display(dir_widget)\n",
    "\n",
    "# Function to handle backup\n",
    "def backup_directory(dirName):\n",
    "    if not os.path.isdir(dirName):\n",
    "        print(\"Directory\", dirName, \"doesn't exist\")\n",
    "    else:\n",
    "        curDirectory = pathlib.Path(dirName)\n",
    "        zip_filename = \"myZip.zip\"\n",
    "\n",
    "        if os.path.isfile(zip_filename):\n",
    "            print(\"Error: The ZIP archive already exists. Please choose a different name.\")\n",
    "        else:\n",
    "            with zipfile.ZipFile(zip_filename, mode=\"w\") as archive:\n",
    "                for file_path in curDirectory.rglob(\"*\"):\n",
    "                    archive.write(file_path, arcname=file_path.relative_to(curDirectory))\n",
    "\n",
    "            if os.path.isfile(zip_filename):\n",
    "                print(\"Archive\", zip_filename, \"created successfully.\")\n",
    "            else:\n",
    "                print(\"Error in creating zip archive.\")\n",
    "\n",
    "# Add a button to trigger the backup\n",
    "backup_button = widgets.Button(description=\"Backup Directory\")\n",
    "\n",
    "def on_backup_button_clicked(b):\n",
    "    backup_directory(dir_widget.value)\n",
    "\n",
    "backup_button.on_click(on_backup_button_clicked)\n",
    "display(backup_button)\n"
   ]
  },
  {
   "cell_type": "code",
   "execution_count": 2,
   "id": "89f2241b",
   "metadata": {},
   "outputs": [
    {
     "name": "stdout",
     "output_type": "stream",
     "text": [
      "Enter the filename: sa\n",
      "File sa doesn't exist\n"
     ]
    }
   ],
   "source": [
    "#p6a\n",
    "import os\n",
    "import sys\n",
    "# Input the filename directly in the Jupyter Notebook cell\n",
    "fname = input(\"Enter the filename: \")\n",
    "\n",
    "if not os.path.isfile(fname):\n",
    "    print(\"File\", fname, \"doesn't exist\")\n",
    "else:\n",
    "    with open(fname, \"r\") as infile:\n",
    "        lineList = infile.readlines()\n",
    "\n",
    "    for i, line in enumerate(lineList[:20], 1):\n",
    "        print(i, \":\", line.strip())\n",
    "\n",
    "    word = input(\"Enter a word: \")\n",
    "    cnt = 0\n",
    "\n",
    "    for line in lineList:\n",
    "        cnt += line.count(word)\n",
    "\n",
    "    print(\"The word\", word, \"appears\", cnt, \"times in the file\")\n"
   ]
  },
  {
   "cell_type": "code",
   "execution_count": 3,
   "id": "30a5d66d",
   "metadata": {},
   "outputs": [
    {
     "name": "stdout",
     "output_type": "stream",
     "text": [
      "Enter state code for finding capital: kA\n",
      "Enter state code for finding language: TS\n",
      "Corresponding language for code TS is Telugu\n"
     ]
    }
   ],
   "source": [
    "from openpyxl import Workbook\n",
    "from openpyxl.styles import Font\n",
    "\n",
    "# Create a new workbook\n",
    "wb = Workbook()\n",
    "\n",
    "# Create two sheets\n",
    "sheet = wb.active\n",
    "sheet.title = \"Language\"\n",
    "wb.create_sheet(title=\"Capital\")\n",
    "\n",
    "# Data\n",
    "lang = [\"Kannada\", \"Telugu\", \"Tamil\"]\n",
    "state = [\"Karnataka\", \"Telangana\", \"Tamil Nadu\"]\n",
    "capital = [\"Bengaluru\", \"Hyderabad\", \"Chennai\"]\n",
    "code = ['KA', 'TS', 'TN']\n",
    "\n",
    "# Populate \"Language\" sheet\n",
    "sheet.cell(row=1, column=1).value = \"State\"\n",
    "sheet.cell(row=1, column=2).value = \"Language\"\n",
    "sheet.cell(row=1, column=3).value = \"Code\"\n",
    "\n",
    "ft = Font(bold=True)\n",
    "for row in sheet[\"A1:C1\"]:\n",
    "    for cell in row:\n",
    "        cell.font = ft\n",
    "\n",
    "for i in range(2, 5):\n",
    "    sheet.cell(row=i, column=1).value = state[i - 2]\n",
    "    sheet.cell(row=i, column=2).value = lang[i - 2]\n",
    "    sheet.cell(row=i, column=3).value = code[i - 2]\n",
    "\n",
    "# Save workbook after populating \"Language\" sheet\n",
    "wb.save(\"demo.xlsx\")\n",
    "\n",
    "# Switch to \"Capital\" sheet\n",
    "sheet = wb[\"Capital\"]\n",
    "\n",
    "# Populate \"Capital\" sheet\n",
    "sheet.cell(row=1, column=1).value = \"State\"\n",
    "sheet.cell(row=1, column=2).value = \"Capital\"\n",
    "sheet.cell(row=1, column=3).value = \"Code\"\n",
    "\n",
    "ft = Font(bold=True)\n",
    "for row in sheet[\"A1:C1\"]:\n",
    "    for cell in row:\n",
    "        cell.font = ft\n",
    "\n",
    "for i in range(2, 5):\n",
    "    sheet.cell(row=i, column=1).value = state[i - 2]\n",
    "    sheet.cell(row=i, column=2).value = capital[i - 2]\n",
    "    sheet.cell(row=i, column=3).value = code[i - 2]\n",
    "\n",
    "# Save workbook after populating \"Capital\" sheet\n",
    "wb.save(\"demo.xlsx\")\n",
    "\n",
    "# Search for capital based on state code\n",
    "srchCode = input(\"Enter state code for finding capital: \")\n",
    "for i in range(2, 5):\n",
    "    data = sheet.cell(row=i, column=3).value\n",
    "    if data == srchCode:\n",
    "        print(\"Corresponding capital for code\", srchCode, \"is\", sheet.cell(row=i, column=2).value)\n",
    "\n",
    "# Switch back to \"Language\" sheet\n",
    "sheet = wb[\"Language\"]\n",
    "\n",
    "# Search for language based on state code\n",
    "srchCode = input(\"Enter state code for finding language: \")\n",
    "for i in range(2, 5):\n",
    "    data = sheet.cell(row=i, column=3).value\n",
    "    if data == srchCode:\n",
    "        print(\"Corresponding language for code\", srchCode, \"is\", sheet.cell(row=i, column=2).value)\n",
    "\n",
    "# Close the workbook\n",
    "wb.close()\n"
   ]
  },
  {
   "cell_type": "code",
   "execution_count": 4,
   "id": "6816c827",
   "metadata": {},
   "outputs": [
    {
     "ename": "ModuleNotFoundError",
     "evalue": "No module named 'PyPDF2'",
     "output_type": "error",
     "traceback": [
      "\u001b[1;31m---------------------------------------------------------------------------\u001b[0m",
      "\u001b[1;31mModuleNotFoundError\u001b[0m                       Traceback (most recent call last)",
      "Cell \u001b[1;32mIn[4], line 1\u001b[0m\n\u001b[1;32m----> 1\u001b[0m \u001b[38;5;28;01mfrom\u001b[39;00m \u001b[38;5;21;01mPyPDF2\u001b[39;00m \u001b[38;5;28;01mimport\u001b[39;00m PdfWriter, PdfReader\n\u001b[0;32m      3\u001b[0m \u001b[38;5;66;03m# Input the page number you want to combine from multiple documents\u001b[39;00m\n\u001b[0;32m      4\u001b[0m num \u001b[38;5;241m=\u001b[39m \u001b[38;5;28mint\u001b[39m(\u001b[38;5;28minput\u001b[39m(\u001b[38;5;124m\"\u001b[39m\u001b[38;5;124mEnter page number you want to combine from multiple documents: \u001b[39m\u001b[38;5;124m\"\u001b[39m))\n",
      "\u001b[1;31mModuleNotFoundError\u001b[0m: No module named 'PyPDF2'"
     ]
    }
   ],
   "source": [
    "from PyPDF2 import PdfWriter, PdfReader\n",
    "\n",
    "# Input the page number you want to combine from multiple documents\n",
    "num = int(input(\"Enter page number you want to combine from multiple documents: \"))\n",
    "\n",
    "# Open the PDF files\n",
    "pdf1 = open('birds.pdf', 'rb')\n",
    "pdf2 = open('birdspic.pdf', 'rb')\n",
    "\n",
    "# Create a PdfWriter to combine the pages\n",
    "pdf_writer = PdfWriter()\n",
    "\n",
    "# Read the specified page from the first PDF and add it to the writer\n",
    "pdf1_reader = PdfReader(pdf1)\n",
    "page = pdf1_reader.pages[num - 1]\n",
    "pdf_writer.add_page(page)\n",
    "\n",
    "# Read the specified page from the second PDF and add it to the writer\n",
    "pdf2_reader = PdfReader(pdf2)\n",
    "page = pdf2_reader.pages[num - 1]\n",
    "pdf_writer.add_page(page)\n",
    "\n",
    "# Save the combined pages to the output PDF file\n",
    "with open('output.pdf', 'wb') as output:\n",
    "    pdf_writer.write(output)\n",
    "\n",
    "# Close the input PDF files\n",
    "pdf1.close()\n",
    "pdf2.close()\n"
   ]
  },
  {
   "cell_type": "code",
   "execution_count": null,
   "id": "066cdf02",
   "metadata": {},
   "outputs": [],
   "source": []
  }
 ],
 "metadata": {
  "kernelspec": {
   "display_name": "Python 3 (ipykernel)",
   "language": "python",
   "name": "python3"
  },
  "language_info": {
   "codemirror_mode": {
    "name": "ipython",
    "version": 3
   },
   "file_extension": ".py",
   "mimetype": "text/x-python",
   "name": "python",
   "nbconvert_exporter": "python",
   "pygments_lexer": "ipython3",
   "version": "3.11.3"
  }
 },
 "nbformat": 4,
 "nbformat_minor": 5
}
